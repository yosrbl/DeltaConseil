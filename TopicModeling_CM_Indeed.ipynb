{
  "nbformat": 4,
  "nbformat_minor": 0,
  "metadata": {
    "colab": {
      "name": "CM_Indeed.ipynb",
      "provenance": [],
      "collapsed_sections": [],
      "toc_visible": true
    },
    "kernelspec": {
      "name": "python3",
      "display_name": "Python 3"
    }
  },
  "cells": [
    {
      "cell_type": "code",
      "metadata": {
        "id": "C1d1F7YgRmgn",
        "colab_type": "code",
        "colab": {}
      },
      "source": [
        "import pandas as pd\n",
        "data= pd.read_csv('mcdo.xls')"
      ],
      "execution_count": 0,
      "outputs": []
    },
    {
      "cell_type": "code",
      "metadata": {
        "id": "npmotvBYWTwq",
        "colab_type": "code",
        "outputId": "b1390c89-975f-4dbb-c5a9-77e7c5abca1a",
        "colab": {
          "base_uri": "https://localhost:8080/",
          "height": 73
        }
      },
      "source": [
        "import nltk\n",
        "# download the punkt tokenizer\n",
        "nltk.download('stopwords')"
      ],
      "execution_count": 0,
      "outputs": [
        {
          "output_type": "stream",
          "text": [
            "[nltk_data] Downloading package stopwords to /root/nltk_data...\n",
            "[nltk_data]   Package stopwords is already up-to-date!\n"
          ],
          "name": "stdout"
        },
        {
          "output_type": "execute_result",
          "data": {
            "text/plain": [
              "True"
            ]
          },
          "metadata": {
            "tags": []
          },
          "execution_count": 38
        }
      ]
    },
    {
      "cell_type": "code",
      "metadata": {
        "id": "egKmbK2ZUOTk",
        "colab_type": "code",
        "outputId": "d1a81e69-9269-4629-a169-627667999869",
        "colab": {
          "base_uri": "https://localhost:8080/",
          "height": 73
        }
      },
      "source": [
        "# import natural language toolkit\n",
        "import nltk\n",
        "# download the punkt tokenizer\n",
        "nltk.download('punkt')\n",
        "print(\"The punkt tokenizer is downloaded\")\n"
      ],
      "execution_count": 0,
      "outputs": [
        {
          "output_type": "stream",
          "text": [
            "[nltk_data] Downloading package punkt to /root/nltk_data...\n",
            "[nltk_data]   Package punkt is already up-to-date!\n",
            "The punkt tokenizer is downloaded\n"
          ],
          "name": "stdout"
        }
      ]
    },
    {
      "cell_type": "code",
      "metadata": {
        "id": "uWomP_4zRjuh",
        "colab_type": "code",
        "outputId": "deedfb2f-1992-480f-816e-aeacc8445c9b",
        "colab": {
          "base_uri": "https://localhost:8080/",
          "height": 293
        }
      },
      "source": [
        "data.head()"
      ],
      "execution_count": 0,
      "outputs": [
        {
          "output_type": "execute_result",
          "data": {
            "text/html": [
              "<div>\n",
              "<style scoped>\n",
              "    .dataframe tbody tr th:only-of-type {\n",
              "        vertical-align: middle;\n",
              "    }\n",
              "\n",
              "    .dataframe tbody tr th {\n",
              "        vertical-align: top;\n",
              "    }\n",
              "\n",
              "    .dataframe thead th {\n",
              "        text-align: right;\n",
              "    }\n",
              "</style>\n",
              "<table border=\"1\" class=\"dataframe\">\n",
              "  <thead>\n",
              "    <tr style=\"text-align: right;\">\n",
              "      <th></th>\n",
              "      <th>bubble_rating</th>\n",
              "      <th>date</th>\n",
              "      <th>location</th>\n",
              "      <th>num_reviews</th>\n",
              "      <th>poste</th>\n",
              "      <th>review_body</th>\n",
              "      <th>review_title</th>\n",
              "    </tr>\n",
              "  </thead>\n",
              "  <tbody>\n",
              "    <tr>\n",
              "      <th>0</th>\n",
              "      <td>3,0</td>\n",
              "      <td>4 avril 2020</td>\n",
              "      <td>Sallanches</td>\n",
              "      <td>74</td>\n",
              "      <td>Employé polyvalent (employé actuel)</td>\n",
              "      <td>Gérer son stresse  pendant les rush que sa soi...</td>\n",
              "      <td>Moi</td>\n",
              "    </tr>\n",
              "    <tr>\n",
              "      <th>1</th>\n",
              "      <td>5,0</td>\n",
              "      <td>26 mars 2020</td>\n",
              "      <td>Lyon</td>\n",
              "      <td>69</td>\n",
              "      <td>Serveuse (ancien employé)</td>\n",
              "      <td>Cool, pour mes débuts pro, et surtout financer...</td>\n",
              "      <td>Job été</td>\n",
              "    </tr>\n",
              "    <tr>\n",
              "      <th>2</th>\n",
              "      <td>2,0</td>\n",
              "      <td>24 mars 2020</td>\n",
              "      <td>Tours</td>\n",
              "      <td>37</td>\n",
              "      <td>Equipière polyvalente (ancien employé)</td>\n",
              "      <td>On y apprend à être efficace, c'est un emploi ...</td>\n",
              "      <td>Bonne expérience mais difficile</td>\n",
              "    </tr>\n",
              "    <tr>\n",
              "      <th>3</th>\n",
              "      <td>3,0</td>\n",
              "      <td>22 mars 2020</td>\n",
              "      <td>Méru</td>\n",
              "      <td>60</td>\n",
              "      <td>Employée polyvalente (ancien employé)</td>\n",
              "      <td>En effet lors de mon expérience j’ai pu voir q...</td>\n",
              "      <td>Sous-représenter</td>\n",
              "    </tr>\n",
              "    <tr>\n",
              "      <th>4</th>\n",
              "      <td>3,0</td>\n",
              "      <td>19 mars 2020</td>\n",
              "      <td>Nangis</td>\n",
              "      <td>77</td>\n",
              "      <td>EMPLOYE POLYVALENT (ancien employé)</td>\n",
              "      <td>tres bonne ambiance avec les collegue de trava...</td>\n",
              "      <td>bonne ambiance</td>\n",
              "    </tr>\n",
              "  </tbody>\n",
              "</table>\n",
              "</div>"
            ],
            "text/plain": [
              "  bubble_rating  ...                     review_title\n",
              "0           3,0  ...                              Moi\n",
              "1           5,0  ...                          Job été\n",
              "2           2,0  ...  Bonne expérience mais difficile\n",
              "3           3,0  ...                 Sous-représenter\n",
              "4           3,0  ...                   bonne ambiance\n",
              "\n",
              "[5 rows x 7 columns]"
            ]
          },
          "metadata": {
            "tags": []
          },
          "execution_count": 40
        }
      ]
    },
    {
      "cell_type": "code",
      "metadata": {
        "id": "cmdnIR2vRqyI",
        "colab_type": "code",
        "outputId": "26227ee4-8669-4cfd-8adc-f218cdec6867",
        "colab": {
          "base_uri": "https://localhost:8080/",
          "height": 73
        }
      },
      "source": [
        "import gensim\n",
        "from gensim.utils import simple_preprocess\n",
        "from gensim.parsing.preprocessing import STOPWORDS\n",
        "from nltk.stem import WordNetLemmatizer, SnowballStemmer\n",
        "from nltk.stem.porter import *\n",
        "import numpy as np\n",
        "np.random.seed(2018)\n",
        "import nltk\n",
        "nltk.download('wordnet')"
      ],
      "execution_count": 0,
      "outputs": [
        {
          "output_type": "stream",
          "text": [
            "[nltk_data] Downloading package wordnet to /root/nltk_data...\n",
            "[nltk_data]   Package wordnet is already up-to-date!\n"
          ],
          "name": "stdout"
        },
        {
          "output_type": "execute_result",
          "data": {
            "text/plain": [
              "True"
            ]
          },
          "metadata": {
            "tags": []
          },
          "execution_count": 41
        }
      ]
    },
    {
      "cell_type": "code",
      "metadata": {
        "id": "1r8RKGW3TkLF",
        "colab_type": "code",
        "colab": {}
      },
      "source": [
        "x=data[\"review_body\"][0]"
      ],
      "execution_count": 0,
      "outputs": []
    },
    {
      "cell_type": "code",
      "metadata": {
        "id": "RQuKD4YPachy",
        "colab_type": "code",
        "colab": {}
      },
      "source": [
        "stemmer = SnowballStemmer(\"french\")"
      ],
      "execution_count": 0,
      "outputs": []
    },
    {
      "cell_type": "code",
      "metadata": {
        "id": "3QAWTFZoUBaa",
        "colab_type": "code",
        "outputId": "3cbfa84c-53bd-4e46-9cb8-2c87a7e6ec9b",
        "colab": {
          "base_uri": "https://localhost:8080/",
          "height": 56
        }
      },
      "source": [
        "from nltk.corpus import stopwords\n",
        "stop_words1=set(stopwords.words(\"french\"))\n",
        "print(stop_words1)"
      ],
      "execution_count": 0,
      "outputs": [
        {
          "output_type": "stream",
          "text": [
            "{'je', 'seront', 'serais', 'avec', 'aurions', 'sois', 'avons', 'serons', 'eussent', 'pas', 'eûtes', 'ta', 'fût', 'ayantes', 'serions', 'ait', 'auront', 'eue', 'seriez', 'qui', 'sa', 'étantes', 'de', 'auriez', 'nos', 'ayant', 'à', 'd', 'eût', 'ne', 'eurent', 'furent', 'des', 'étés', 'sera', 'par', 'vos', 'étaient', 'soient', 'fusses', 'fussiez', 'eûmes', 'nous', 'eues', 'étante', 'seraient', 'ton', 'ayez', 'j', 'et', 'sommes', 'te', 'ce', 'du', 'soyez', 'se', 'avions', 'on', 'serez', 'ses', 'fusse', 's', 'même', 'ayants', 'aurons', 'ma', 'fut', 'me', 'eusse', 'fus', 'était', 'les', 'sont', 'la', 'qu', 'aviez', 'y', 'que', 'toi', 'serai', 'mon', 'ai', 'eu', 'êtes', 'ayons', 'n', 'été', 'eussions', 'ayante', 'seras', 'ou', 'auraient', 'étant', 'avez', 'aient', 'ils', 'eut', 'en', 'eus', 'elle', 'avait', 'étée', 'tu', 'eusses', 'eussiez', 'aux', 'étions', 'serait', 'étais', 'moi', 'fussent', 'est', 'leur', 'mais', 't', 'aies', 'l', 'lui', 'fûtes', 'soit', 'une', 'suis', 'aie', 'fussions', 'ont', 'as', 'm', 'avais', 'c', 'vous', 'étiez', 'aurai', 'eux', 'tes', 'il', 'notre', 'es', 'avaient', 'étants', 'votre', 'auras', 'aura', 'au', 'soyons', 'son', 'dans', 'aurez', 'mes', 'le', 'aurait', 'un', 'sur', 'aurais', 'fûmes', 'pour', 'ces', 'étées'}\n"
          ],
          "name": "stdout"
        }
      ]
    },
    {
      "cell_type": "code",
      "metadata": {
        "id": "8kjFIKkmUBIm",
        "colab_type": "code",
        "colab": {}
      },
      "source": [
        "def lemmatize_stemming(text):\n",
        "    return stemmer.stem(WordNetLemmatizer().lemmatize(text, pos='v'))\n",
        "def preprocess(text):\n",
        "    result = []\n",
        "    for token in gensim.utils.simple_preprocess(text):\n",
        "        if token not in stop_words1 and len(token) > 3:\n",
        "            result.append(lemmatize_stemming(token))\n",
        "    return result\n"
      ],
      "execution_count": 0,
      "outputs": []
    },
    {
      "cell_type": "code",
      "metadata": {
        "id": "kbjiyXN5UzNq",
        "colab_type": "code",
        "outputId": "20232607-8241-4a3e-bce8-4a2c873f39c2",
        "colab": {
          "base_uri": "https://localhost:8080/",
          "height": 149
        }
      },
      "source": [
        "data_text = data[['review_body']]\n",
        "data_text['index'] = data_text.index\n",
        "documents = data_text"
      ],
      "execution_count": 0,
      "outputs": [
        {
          "output_type": "stream",
          "text": [
            "/usr/local/lib/python3.6/dist-packages/ipykernel_launcher.py:2: SettingWithCopyWarning: \n",
            "A value is trying to be set on a copy of a slice from a DataFrame.\n",
            "Try using .loc[row_indexer,col_indexer] = value instead\n",
            "\n",
            "See the caveats in the documentation: https://pandas.pydata.org/pandas-docs/stable/user_guide/indexing.html#returning-a-view-versus-a-copy\n",
            "  \n"
          ],
          "name": "stderr"
        }
      ]
    },
    {
      "cell_type": "code",
      "metadata": {
        "id": "bbw6uBd7U752",
        "colab_type": "code",
        "outputId": "11385fba-e32d-4ef5-d45e-5edb62830d50",
        "colab": {
          "base_uri": "https://localhost:8080/",
          "height": 149
        }
      },
      "source": [
        "doc_sample = documents[documents['index'] == 167].values[0][0]\n",
        "print('original document: ')\n",
        "words = []\n",
        "for word in doc_sample.split(' '):\n",
        "    words.append(word)\n",
        "print(words)\n",
        "print('\\n\\n tokenized and lemmatized document: ')\n",
        "print(preprocess(doc_sample))"
      ],
      "execution_count": 0,
      "outputs": [
        {
          "output_type": "stream",
          "text": [
            "original document: \n",
            "['L’expérience', 'Macdo', 'ne', 'm’a', 'pas', 'forcément', 'plus', 'au', 'vu', 'que', 'l’équipe', 'que', 'j’avais', 'qui', 'étais', 'beaucoup', 'dans', 'la', 'compétitivité']\n",
            "\n",
            "\n",
            " tokenized and lemmatized document: \n",
            "['expérient', 'macdo', 'forc', 'plus', 'équip', 'beaucoup', 'compétit']\n"
          ],
          "name": "stdout"
        }
      ]
    },
    {
      "cell_type": "code",
      "metadata": {
        "id": "3xb7jFJmVke7",
        "colab_type": "code",
        "outputId": "94796738-eed4-4c61-f21f-d8f417c47a9c",
        "colab": {
          "base_uri": "https://localhost:8080/",
          "height": 223
        }
      },
      "source": [
        "processed_docs = documents['review_body'].map(preprocess)\n",
        "processed_docs[:10]"
      ],
      "execution_count": 0,
      "outputs": [
        {
          "output_type": "execute_result",
          "data": {
            "text/plain": [
              "0    [ger, stress, pend, rush, cuisin, contrair, pa...\n",
              "1           [cool, début, surtout, financ, étud, perm]\n",
              "2    [apprend, être, efficac, emploi, beaucoup, adr...\n",
              "3    [effet, lor, expérient, voir, heur, supplément...\n",
              "4    [tre, bon, ambianc, collegu, travail, mis, par...\n",
              "5    [équip, salair, tout, autr, choos, moyen, empl...\n",
              "6                                [compétit, san, cess]\n",
              "7                     [esprit, équip, sein, macdonald]\n",
              "8    [travail, mem, agréabl, plac, post, san, form,...\n",
              "9    [stress, parc, court, partout, recevoir, prépa...\n",
              "Name: review_body, dtype: object"
            ]
          },
          "metadata": {
            "tags": []
          },
          "execution_count": 48
        }
      ]
    },
    {
      "cell_type": "code",
      "metadata": {
        "id": "_8viN6SLWKx1",
        "colab_type": "code",
        "colab": {}
      },
      "source": [
        ""
      ],
      "execution_count": 0,
      "outputs": []
    },
    {
      "cell_type": "code",
      "metadata": {
        "id": "2zhFqtKKYq6f",
        "colab_type": "code",
        "colab": {}
      },
      "source": [
        "#Bag of Words on the Data set"
      ],
      "execution_count": 0,
      "outputs": []
    },
    {
      "cell_type": "code",
      "metadata": {
        "id": "p1HcDJRkdsBJ",
        "colab_type": "code",
        "outputId": "aa1c11c1-8787-4d1f-e978-7e9d4fc7022e",
        "colab": {
          "base_uri": "https://localhost:8080/",
          "height": 223
        }
      },
      "source": [
        "#BOW sur le jeu de données:\n",
        "dictionary = gensim.corpora.Dictionary(processed_docs)\n",
        "count = 0\n",
        "for k, v in dictionary.iteritems():\n",
        "    print(k, v)\n",
        "    count += 1\n",
        "    if count > 10:\n",
        "        break"
      ],
      "execution_count": 0,
      "outputs": [
        {
          "output_type": "stream",
          "text": [
            "0 besoin\n",
            "1 contr\n",
            "2 contrair\n",
            "3 crai\n",
            "4 cuisin\n",
            "5 direct\n",
            "6 ecout\n",
            "7 ger\n",
            "8 parfois\n",
            "9 pend\n",
            "10 rush\n"
          ],
          "name": "stdout"
        }
      ]
    },
    {
      "cell_type": "code",
      "metadata": {
        "id": "uSTN7gIzWYyb",
        "colab_type": "code",
        "colab": {}
      },
      "source": [
        "dictionary.filter_extremes(no_below=15, no_above=0.5, keep_n=100000)"
      ],
      "execution_count": 0,
      "outputs": []
    },
    {
      "cell_type": "code",
      "metadata": {
        "id": "V9vP59p2d25V",
        "colab_type": "code",
        "outputId": "0d3dc7d8-a35f-46dc-ca4c-4fb1df8ac44e",
        "colab": {
          "base_uri": "https://localhost:8080/",
          "height": 36
        }
      },
      "source": [
        "#doc2bow\n",
        "bow_corpus = [dictionary.doc2bow(doc) for doc in processed_docs]\n",
        "bow_corpus[2]"
      ],
      "execution_count": 0,
      "outputs": [
        {
          "output_type": "execute_result",
          "data": {
            "text/plain": [
              "[(2, 1), (4, 1), (5, 1), (6, 1), (7, 1)]"
            ]
          },
          "metadata": {
            "tags": []
          },
          "execution_count": 52
        }
      ]
    },
    {
      "cell_type": "code",
      "metadata": {
        "id": "VQSaC4ppd2-4",
        "colab_type": "code",
        "outputId": "3a7a930d-8b2b-4702-fabf-928b74cf7135",
        "colab": {
          "base_uri": "https://localhost:8080/",
          "height": 36
        }
      },
      "source": [
        "#TF-IDF\n",
        "from gensim import corpora, models\n",
        "tfidf = models.TfidfModel(bow_corpus)\n",
        "corpus_tfidf = tfidf[bow_corpus]\n",
        "from pprint import pprint\n",
        "for doc in corpus_tfidf:\n",
        "    pprint(doc)\n",
        "    break"
      ],
      "execution_count": 0,
      "outputs": [
        {
          "output_type": "stream",
          "text": [
            "[(0, 0.649229257187623), (1, 0.649229257187623), (2, 0.3962357167434734)]\n"
          ],
          "name": "stdout"
        }
      ]
    },
    {
      "cell_type": "code",
      "metadata": {
        "id": "GMUNGnNmd3GT",
        "colab_type": "code",
        "colab": {}
      },
      "source": [
        "#LDA\n",
        "lda_model = gensim.models.LdaMulticore(bow_corpus, num_topics=10, id2word=dictionary, passes=2, workers=2)"
      ],
      "execution_count": 0,
      "outputs": []
    },
    {
      "cell_type": "code",
      "metadata": {
        "id": "HPGuzuMmd23v",
        "colab_type": "code",
        "outputId": "257aa47b-c274-4b0e-b941-4a0bfc47fbb8",
        "colab": {
          "base_uri": "https://localhost:8080/",
          "height": 412
        }
      },
      "source": [
        "for idx, topic in lda_model.print_topics(-1):\n",
        "    print('Topic: {} \\nWords: {}'.format(idx, topic))"
      ],
      "execution_count": 0,
      "outputs": [
        {
          "output_type": "stream",
          "text": [
            "Topic: 0 \n",
            "Words: 0.360*\"stress\" + 0.187*\"parfois\" + 0.187*\"ger\" + 0.023*\"mcdonald\" + 0.023*\"plus\" + 0.013*\"équip\" + 0.013*\"emploi\" + 0.013*\"entrepris\" + 0.013*\"ambianc\" + 0.013*\"bon\"\n",
            "Topic: 1 \n",
            "Words: 0.094*\"trouv\" + 0.094*\"travail\" + 0.092*\"san\" + 0.092*\"directeur\" + 0.092*\"expérient\" + 0.049*\"fonction\" + 0.049*\"fait\" + 0.049*\"emploi\" + 0.049*\"travaill\" + 0.046*\"form\"\n",
            "Topic: 2 \n",
            "Words: 0.187*\"tres\" + 0.096*\"stimul\" + 0.096*\"ambianc\" + 0.096*\"écout\" + 0.091*\"choos\" + 0.033*\"début\" + 0.033*\"entrepris\" + 0.033*\"tre\" + 0.033*\"bien\" + 0.033*\"correct\"\n",
            "Topic: 3 \n",
            "Words: 0.092*\"san\" + 0.089*\"travail\" + 0.087*\"être\" + 0.080*\"parfois\" + 0.078*\"équip\" + 0.072*\"entre\" + 0.072*\"correct\" + 0.072*\"écout\" + 0.066*\"compétit\" + 0.038*\"emploi\"\n",
            "Topic: 4 \n",
            "Words: 0.136*\"emploi\" + 0.126*\"choos\" + 0.117*\"tres\" + 0.073*\"expérient\" + 0.067*\"aucun\" + 0.067*\"part\" + 0.067*\"fait\" + 0.067*\"équip\" + 0.067*\"plus\" + 0.059*\"stimul\"\n",
            "Topic: 5 \n",
            "Words: 0.243*\"début\" + 0.153*\"entrepris\" + 0.136*\"correct\" + 0.136*\"bien\" + 0.136*\"tre\" + 0.019*\"expérient\" + 0.019*\"trouv\" + 0.013*\"emploi\" + 0.013*\"travaill\" + 0.013*\"cet\"\n",
            "Topic: 6 \n",
            "Words: 0.152*\"équip\" + 0.108*\"entrepris\" + 0.102*\"travail\" + 0.102*\"sein\" + 0.060*\"tres\" + 0.058*\"cet\" + 0.058*\"ambianc\" + 0.056*\"stress\" + 0.053*\"fonction\" + 0.053*\"bon\"\n",
            "Topic: 7 \n",
            "Words: 0.157*\"mcdonald\" + 0.095*\"plus\" + 0.092*\"macdo\" + 0.086*\"entrepris\" + 0.082*\"travaill\" + 0.082*\"agréabl\" + 0.079*\"bon\" + 0.079*\"ambianc\" + 0.024*\"équip\" + 0.021*\"beaucoup\"\n",
            "Topic: 8 \n",
            "Words: 0.136*\"stress\" + 0.091*\"travail\" + 0.078*\"part\" + 0.075*\"ger\" + 0.075*\"tre\" + 0.075*\"bon\" + 0.075*\"ambianc\" + 0.065*\"emploi\" + 0.062*\"beaucoup\" + 0.062*\"être\"\n",
            "Topic: 9 \n",
            "Words: 0.115*\"équip\" + 0.106*\"plus\" + 0.102*\"compétit\" + 0.102*\"expérient\" + 0.102*\"forc\" + 0.097*\"beaucoup\" + 0.097*\"macdo\" + 0.050*\"stress\" + 0.028*\"début\" + 0.023*\"ambianc\"\n"
          ],
          "name": "stdout"
        }
      ]
    },
    {
      "cell_type": "code",
      "metadata": {
        "id": "Q8ufiEkMYWnH",
        "colab_type": "code",
        "outputId": "7df2464d-f828-4a47-83d2-e7075dda7ef3",
        "colab": {
          "base_uri": "https://localhost:8080/",
          "height": 224
        }
      },
      "source": [
        "#Appliquer LDA en utilisant TF-IDF\n",
        "lda_model_tfidf = gensim.models.LdaMulticore(corpus_tfidf, num_topics=10, id2word=dictionary, passes=2, workers=4)\n",
        "for idx, topic in lda_model_tfidf.print_topics(-1):\n",
        "    print('Topic: {} Word: {}'.format(idx, topic))"
      ],
      "execution_count": 0,
      "outputs": [
        {
          "output_type": "stream",
          "text": [
            "Topic: 0 Word: 0.142*\"directeur\" + 0.142*\"forc\" + 0.126*\"san\" + 0.101*\"plus\" + 0.101*\"expérient\" + 0.027*\"correct\" + 0.022*\"beaucoup\" + 0.022*\"être\" + 0.022*\"début\" + 0.022*\"tre\"\n",
            "Topic: 1 Word: 0.140*\"tres\" + 0.081*\"form\" + 0.079*\"agréabl\" + 0.076*\"directeur\" + 0.076*\"aucun\" + 0.069*\"choos\" + 0.069*\"stimul\" + 0.069*\"écout\" + 0.068*\"san\" + 0.056*\"travail\"\n",
            "Topic: 2 Word: 0.211*\"emploi\" + 0.149*\"expérient\" + 0.093*\"fonction\" + 0.092*\"fait\" + 0.088*\"travaill\" + 0.088*\"trouv\" + 0.064*\"travail\" + 0.016*\"sein\" + 0.016*\"équip\" + 0.012*\"début\"\n",
            "Topic: 3 Word: 0.120*\"entre\" + 0.108*\"travail\" + 0.081*\"entrepris\" + 0.068*\"être\" + 0.068*\"écout\" + 0.068*\"parfois\" + 0.068*\"correct\" + 0.065*\"équip\" + 0.059*\"cet\" + 0.058*\"form\"\n",
            "Topic: 4 Word: 0.162*\"début\" + 0.134*\"mcdonald\" + 0.067*\"tre\" + 0.067*\"correct\" + 0.065*\"bien\" + 0.054*\"macdo\" + 0.052*\"forc\" + 0.052*\"beaucoup\" + 0.049*\"entrepris\" + 0.049*\"compétit\"\n",
            "Topic: 5 Word: 0.249*\"stress\" + 0.168*\"compétit\" + 0.129*\"san\" + 0.035*\"beaucoup\" + 0.035*\"expérient\" + 0.032*\"emploi\" + 0.025*\"forc\" + 0.024*\"plus\" + 0.022*\"être\" + 0.021*\"stimul\"\n",
            "Topic: 6 Word: 0.139*\"sein\" + 0.109*\"équip\" + 0.106*\"ger\" + 0.103*\"parfois\" + 0.073*\"aucun\" + 0.070*\"part\" + 0.067*\"choos\" + 0.067*\"fait\" + 0.066*\"stress\" + 0.048*\"plus\"\n",
            "Topic: 7 Word: 0.195*\"trouv\" + 0.183*\"cet\" + 0.139*\"expérient\" + 0.130*\"entrepris\" + 0.024*\"beaucoup\" + 0.023*\"emploi\" + 0.021*\"compétit\" + 0.019*\"san\" + 0.018*\"être\" + 0.018*\"stimul\"\n",
            "Topic: 8 Word: 0.102*\"bon\" + 0.087*\"ambianc\" + 0.070*\"part\" + 0.068*\"mcdonald\" + 0.066*\"ger\" + 0.062*\"tre\" + 0.059*\"macdo\" + 0.056*\"travaill\" + 0.056*\"agréabl\" + 0.054*\"plus\"\n",
            "Topic: 9 Word: 0.124*\"stress\" + 0.106*\"fonction\" + 0.099*\"sein\" + 0.083*\"stimul\" + 0.082*\"bon\" + 0.080*\"beaucoup\" + 0.080*\"être\" + 0.073*\"ambianc\" + 0.063*\"emploi\" + 0.054*\"équip\"\n"
          ],
          "name": "stdout"
        }
      ]
    },
    {
      "cell_type": "code",
      "metadata": {
        "id": "wOfNCTCwjdza",
        "colab_type": "code",
        "outputId": "d951a34a-88e0-4837-f04e-d486b5de6e45",
        "colab": {
          "base_uri": "https://localhost:8080/",
          "height": 36
        }
      },
      "source": [
        "#Evaluation de la performance du modèle LDA Bag of Words \n",
        "processed_docs[167]"
      ],
      "execution_count": 0,
      "outputs": [
        {
          "output_type": "execute_result",
          "data": {
            "text/plain": [
              "['expérient', 'macdo', 'forc', 'plus', 'équip', 'beaucoup', 'compétit']"
            ]
          },
          "metadata": {
            "tags": []
          },
          "execution_count": 59
        }
      ]
    },
    {
      "cell_type": "code",
      "metadata": {
        "id": "BE-iNXe1jwFx",
        "colab_type": "code",
        "outputId": "e35f3806-9dc4-4332-9070-c337c1b5d6be",
        "colab": {
          "base_uri": "https://localhost:8080/",
          "height": 599
        }
      },
      "source": [
        "for index, score in sorted(lda_model[bow_corpus[167]], key=lambda tup: -1*tup[1]):\n",
        "    print(\"\\nScore: {}\\t \\nTopic: {}\".format(score, lda_model.print_topic(index, 10)))"
      ],
      "execution_count": 0,
      "outputs": [
        {
          "output_type": "stream",
          "text": [
            "\n",
            "Score: 0.8874933123588562\t \n",
            "Topic: 0.115*\"équip\" + 0.106*\"plus\" + 0.102*\"compétit\" + 0.102*\"expérient\" + 0.102*\"forc\" + 0.097*\"beaucoup\" + 0.097*\"macdo\" + 0.050*\"stress\" + 0.028*\"début\" + 0.023*\"ambianc\"\n",
            "\n",
            "Score: 0.012502075172960758\t \n",
            "Topic: 0.157*\"mcdonald\" + 0.095*\"plus\" + 0.092*\"macdo\" + 0.086*\"entrepris\" + 0.082*\"travaill\" + 0.082*\"agréabl\" + 0.079*\"bon\" + 0.079*\"ambianc\" + 0.024*\"équip\" + 0.021*\"beaucoup\"\n",
            "\n",
            "Score: 0.01250111311674118\t \n",
            "Topic: 0.092*\"san\" + 0.089*\"travail\" + 0.087*\"être\" + 0.080*\"parfois\" + 0.078*\"équip\" + 0.072*\"entre\" + 0.072*\"correct\" + 0.072*\"écout\" + 0.066*\"compétit\" + 0.038*\"emploi\"\n",
            "\n",
            "Score: 0.012501077726483345\t \n",
            "Topic: 0.136*\"emploi\" + 0.126*\"choos\" + 0.117*\"tres\" + 0.073*\"expérient\" + 0.067*\"aucun\" + 0.067*\"part\" + 0.067*\"fait\" + 0.067*\"équip\" + 0.067*\"plus\" + 0.059*\"stimul\"\n",
            "\n",
            "Score: 0.012501021847128868\t \n",
            "Topic: 0.094*\"trouv\" + 0.094*\"travail\" + 0.092*\"san\" + 0.092*\"directeur\" + 0.092*\"expérient\" + 0.049*\"fonction\" + 0.049*\"fait\" + 0.049*\"emploi\" + 0.049*\"travaill\" + 0.046*\"form\"\n",
            "\n",
            "Score: 0.012500799261033535\t \n",
            "Topic: 0.152*\"équip\" + 0.108*\"entrepris\" + 0.102*\"travail\" + 0.102*\"sein\" + 0.060*\"tres\" + 0.058*\"cet\" + 0.058*\"ambianc\" + 0.056*\"stress\" + 0.053*\"fonction\" + 0.053*\"bon\"\n",
            "\n",
            "Score: 0.012500455603003502\t \n",
            "Topic: 0.136*\"stress\" + 0.091*\"travail\" + 0.078*\"part\" + 0.075*\"ger\" + 0.075*\"tre\" + 0.075*\"bon\" + 0.075*\"ambianc\" + 0.065*\"emploi\" + 0.062*\"beaucoup\" + 0.062*\"être\"\n",
            "\n",
            "Score: 0.01250008586794138\t \n",
            "Topic: 0.360*\"stress\" + 0.187*\"parfois\" + 0.187*\"ger\" + 0.023*\"mcdonald\" + 0.023*\"plus\" + 0.013*\"équip\" + 0.013*\"emploi\" + 0.013*\"entrepris\" + 0.013*\"ambianc\" + 0.013*\"bon\"\n",
            "\n",
            "Score: 0.012500081211328506\t \n",
            "Topic: 0.243*\"début\" + 0.153*\"entrepris\" + 0.136*\"correct\" + 0.136*\"bien\" + 0.136*\"tre\" + 0.019*\"expérient\" + 0.019*\"trouv\" + 0.013*\"emploi\" + 0.013*\"travaill\" + 0.013*\"cet\"\n",
            "\n",
            "Score: 0.012500000186264515\t \n",
            "Topic: 0.187*\"tres\" + 0.096*\"stimul\" + 0.096*\"ambianc\" + 0.096*\"écout\" + 0.091*\"choos\" + 0.033*\"début\" + 0.033*\"entrepris\" + 0.033*\"tre\" + 0.033*\"bien\" + 0.033*\"correct\"\n"
          ],
          "name": "stdout"
        }
      ]
    },
    {
      "cell_type": "code",
      "metadata": {
        "id": "0w-5kKRkjwIs",
        "colab_type": "code",
        "outputId": "83d1aa9f-6609-445d-d08e-d31c480962db",
        "colab": {
          "base_uri": "https://localhost:8080/",
          "height": 599
        }
      },
      "source": [
        "#Evaluation de la performance du modèle LDA TF-IDF\n",
        "for index, score in sorted(lda_model_tfidf[bow_corpus[167]], key=lambda tup: -1*tup[1]):\n",
        "    print(\"\\nScore: {}\\t \\nTopic: {}\".format(score, lda_model_tfidf.print_topic(index, 10)))"
      ],
      "execution_count": 0,
      "outputs": [
        {
          "output_type": "stream",
          "text": [
            "\n",
            "Score: 0.8874803185462952\t \n",
            "Topic: 0.162*\"début\" + 0.134*\"mcdonald\" + 0.067*\"tre\" + 0.067*\"correct\" + 0.065*\"bien\" + 0.054*\"macdo\" + 0.052*\"forc\" + 0.052*\"beaucoup\" + 0.049*\"entrepris\" + 0.049*\"compétit\"\n",
            "\n",
            "Score: 0.012504749931395054\t \n",
            "Topic: 0.142*\"directeur\" + 0.142*\"forc\" + 0.126*\"san\" + 0.101*\"plus\" + 0.101*\"expérient\" + 0.027*\"correct\" + 0.022*\"beaucoup\" + 0.022*\"être\" + 0.022*\"début\" + 0.022*\"tre\"\n",
            "\n",
            "Score: 0.01250342559069395\t \n",
            "Topic: 0.249*\"stress\" + 0.168*\"compétit\" + 0.129*\"san\" + 0.035*\"beaucoup\" + 0.035*\"expérient\" + 0.032*\"emploi\" + 0.025*\"forc\" + 0.024*\"plus\" + 0.022*\"être\" + 0.021*\"stimul\"\n",
            "\n",
            "Score: 0.012502648867666721\t \n",
            "Topic: 0.139*\"sein\" + 0.109*\"équip\" + 0.106*\"ger\" + 0.103*\"parfois\" + 0.073*\"aucun\" + 0.070*\"part\" + 0.067*\"choos\" + 0.067*\"fait\" + 0.066*\"stress\" + 0.048*\"plus\"\n",
            "\n",
            "Score: 0.012502176687121391\t \n",
            "Topic: 0.211*\"emploi\" + 0.149*\"expérient\" + 0.093*\"fonction\" + 0.092*\"fait\" + 0.088*\"travaill\" + 0.088*\"trouv\" + 0.064*\"travail\" + 0.016*\"sein\" + 0.016*\"équip\" + 0.012*\"début\"\n",
            "\n",
            "Score: 0.012502131052315235\t \n",
            "Topic: 0.195*\"trouv\" + 0.183*\"cet\" + 0.139*\"expérient\" + 0.130*\"entrepris\" + 0.024*\"beaucoup\" + 0.023*\"emploi\" + 0.021*\"compétit\" + 0.019*\"san\" + 0.018*\"être\" + 0.018*\"stimul\"\n",
            "\n",
            "Score: 0.012501721270382404\t \n",
            "Topic: 0.102*\"bon\" + 0.087*\"ambianc\" + 0.070*\"part\" + 0.068*\"mcdonald\" + 0.066*\"ger\" + 0.062*\"tre\" + 0.059*\"macdo\" + 0.056*\"travaill\" + 0.056*\"agréabl\" + 0.054*\"plus\"\n",
            "\n",
            "Score: 0.012501713819801807\t \n",
            "Topic: 0.124*\"stress\" + 0.106*\"fonction\" + 0.099*\"sein\" + 0.083*\"stimul\" + 0.082*\"bon\" + 0.080*\"beaucoup\" + 0.080*\"être\" + 0.073*\"ambianc\" + 0.063*\"emploi\" + 0.054*\"équip\"\n",
            "\n",
            "Score: 0.01250111311674118\t \n",
            "Topic: 0.120*\"entre\" + 0.108*\"travail\" + 0.081*\"entrepris\" + 0.068*\"être\" + 0.068*\"écout\" + 0.068*\"parfois\" + 0.068*\"correct\" + 0.065*\"équip\" + 0.059*\"cet\" + 0.058*\"form\"\n",
            "\n",
            "Score: 0.012500024400651455\t \n",
            "Topic: 0.140*\"tres\" + 0.081*\"form\" + 0.079*\"agréabl\" + 0.076*\"directeur\" + 0.076*\"aucun\" + 0.069*\"choos\" + 0.069*\"stimul\" + 0.069*\"écout\" + 0.068*\"san\" + 0.056*\"travail\"\n"
          ],
          "name": "stdout"
        }
      ]
    },
    {
      "cell_type": "code",
      "metadata": {
        "id": "SISmL8WBmFxS",
        "colab_type": "code",
        "colab": {}
      },
      "source": [
        "#Test du modèle sur un document non vu"
      ],
      "execution_count": 0,
      "outputs": []
    },
    {
      "cell_type": "code",
      "metadata": {
        "id": "ELKUfVtumF22",
        "colab_type": "code",
        "outputId": "a1be0641-6fad-4b7e-e2d8-3f56205bd0c4",
        "colab": {
          "base_uri": "https://localhost:8080/",
          "height": 204
        }
      },
      "source": [
        "unseen_document = 'How a Pentagon deal became an identity crisis for Google'\n",
        "bow_vector = dictionary.doc2bow(preprocess(unseen_document))\n",
        "for index, score in sorted(lda_model[bow_vector], key=lambda tup: -1*tup[1]):\n",
        "    print(\"Score: {}\\t Topic: {}\".format(score, lda_model.print_topic(index, 5)))"
      ],
      "execution_count": 0,
      "outputs": [
        {
          "output_type": "stream",
          "text": [
            "Score: 0.10000000149011612\t Topic: 0.360*\"stress\" + 0.187*\"parfois\" + 0.187*\"ger\" + 0.023*\"mcdonald\" + 0.023*\"plus\"\n",
            "Score: 0.10000000149011612\t Topic: 0.094*\"trouv\" + 0.094*\"travail\" + 0.092*\"san\" + 0.092*\"directeur\" + 0.092*\"expérient\"\n",
            "Score: 0.10000000149011612\t Topic: 0.187*\"tres\" + 0.096*\"stimul\" + 0.096*\"ambianc\" + 0.096*\"écout\" + 0.091*\"choos\"\n",
            "Score: 0.10000000149011612\t Topic: 0.092*\"san\" + 0.089*\"travail\" + 0.087*\"être\" + 0.080*\"parfois\" + 0.078*\"équip\"\n",
            "Score: 0.10000000149011612\t Topic: 0.136*\"emploi\" + 0.126*\"choos\" + 0.117*\"tres\" + 0.073*\"expérient\" + 0.067*\"aucun\"\n",
            "Score: 0.10000000149011612\t Topic: 0.243*\"début\" + 0.153*\"entrepris\" + 0.136*\"correct\" + 0.136*\"bien\" + 0.136*\"tre\"\n",
            "Score: 0.10000000149011612\t Topic: 0.152*\"équip\" + 0.108*\"entrepris\" + 0.102*\"travail\" + 0.102*\"sein\" + 0.060*\"tres\"\n",
            "Score: 0.10000000149011612\t Topic: 0.157*\"mcdonald\" + 0.095*\"plus\" + 0.092*\"macdo\" + 0.086*\"entrepris\" + 0.082*\"travaill\"\n",
            "Score: 0.10000000149011612\t Topic: 0.136*\"stress\" + 0.091*\"travail\" + 0.078*\"part\" + 0.075*\"ger\" + 0.075*\"tre\"\n",
            "Score: 0.10000000149011612\t Topic: 0.115*\"équip\" + 0.106*\"plus\" + 0.102*\"compétit\" + 0.102*\"expérient\" + 0.102*\"forc\"\n"
          ],
          "name": "stdout"
        }
      ]
    },
    {
      "cell_type": "code",
      "metadata": {
        "id": "diOLHHZln9us",
        "colab_type": "code",
        "colab": {}
      },
      "source": [
        "# Interprétation : "
      ],
      "execution_count": 0,
      "outputs": []
    },
    {
      "cell_type": "code",
      "metadata": {
        "id": "HwSmLnEhrlWd",
        "colab_type": "code",
        "colab": {}
      },
      "source": [
        ""
      ],
      "execution_count": 0,
      "outputs": []
    },
    {
      "cell_type": "code",
      "metadata": {
        "id": "f27acSPQo-SK",
        "colab_type": "code",
        "colab": {}
      },
      "source": [
        ""
      ],
      "execution_count": 0,
      "outputs": []
    },
    {
      "cell_type": "code",
      "metadata": {
        "id": "zA5s_JDRo-VW",
        "colab_type": "code",
        "colab": {}
      },
      "source": [
        ""
      ],
      "execution_count": 0,
      "outputs": []
    },
    {
      "cell_type": "code",
      "metadata": {
        "id": "luEAg-UQo-Yc",
        "colab_type": "code",
        "colab": {}
      },
      "source": [
        ""
      ],
      "execution_count": 0,
      "outputs": []
    },
    {
      "cell_type": "code",
      "metadata": {
        "id": "Yp3PGwVFtIv9",
        "colab_type": "code",
        "colab": {}
      },
      "source": [
        ""
      ],
      "execution_count": 0,
      "outputs": []
    },
    {
      "cell_type": "code",
      "metadata": {
        "id": "7K_3W-FcYH_p",
        "colab_type": "code",
        "colab": {}
      },
      "source": [
        ""
      ],
      "execution_count": 0,
      "outputs": []
    },
    {
      "cell_type": "code",
      "metadata": {
        "id": "SKScm6c6YIOG",
        "colab_type": "code",
        "colab": {}
      },
      "source": [
        ""
      ],
      "execution_count": 0,
      "outputs": []
    }
  ]
}